{
 "cells": [
  {
   "cell_type": "markdown",
   "metadata": {},
   "source": [
    "# RETAG: Part TWO\n",
    "\n",
    "Replace and normalize `geogName` and `persName` tags in files by using lists (machine-produced and human-reviewed); all known names and their variants are replaced by normalized tags.\n",
    "\n",
    "**Note:** This notebook performs the *SECOND PASS: replace tags in files*."
   ]
  },
  {
   "cell_type": "code",
   "execution_count": 1,
   "metadata": {},
   "outputs": [],
   "source": [
    "import os\n",
    "import time\n",
    "import retag\n",
    "\n",
    "from jnbkutility import log_progress\n",
    "\n",
    "SOURCE = os.path.join(\"SOURCE\", \"ela_corpus\")\n",
    "DEST = os.path.join(\"RESULT\", \"retag\", \"production\")\n",
    "\n",
    "# The following should be set to the actual corrected file, in CSV\n",
    "# format: the format should be the same as the one produced in the\n",
    "# first pass\n",
    "# RT_DATA = os.path.join(\"RESULT\", \"retag\", \"retag_input.csv\")\n",
    "RT_DATA = \"DATA/entities_20200217-01.csv\"\n",
    "\n",
    "# SOURCE is expected to contain directories, and every subdirectory \n",
    "# in SOURCE is taken into account in order to recreate the structure\n",
    "dirs = []\n",
    "with os.scandir(SOURCE) as o:\n",
    "    for d in o:\n",
    "        if d.is_dir():\n",
    "            dirs.append(d.name)"
   ]
  },
  {
   "cell_type": "markdown",
   "metadata": {},
   "source": [
    "Read persistent data if needed (normally the action is commented), and read the reviewed data file. The `merge` parameter is set to `False` because we want to completely refresh *retag* data."
   ]
  },
  {
   "cell_type": "code",
   "execution_count": 2,
   "metadata": {},
   "outputs": [
    {
     "name": "stdout",
     "output_type": "stream",
     "text": [
      "elapsed: 0.04660534858703613 sec\n"
     ]
    }
   ],
   "source": [
    "# if os.path.exists(\"retag.data\"):\n",
    "#     retag.JUP_loadData()\n",
    "\n",
    "start = time.time()\n",
    "retag.JUP_readCSV(RT_DATA, merge=False)\n",
    "retag.JUP_dumpData()\n",
    "print(\"elapsed: %s sec\" % (time.time() - start))"
   ]
  },
  {
   "cell_type": "markdown",
   "metadata": {},
   "source": [
    "## Final Step: Replace *all* Entity Tags\n",
    "\n",
    "This step *replaces all* the entity tags with the ones provided in the reviewed data file, regardless whether they are correct and complete or not. This is usually the final step - although it may be performed several times with refined versions of the provided data file. The original directory structure is preserved in the result.\n",
    "\n",
    "An optional list of tags to replace can be provided: available tags are `geogName`, `persName`, and `placeName`: if not specified, all three tags are replaced.\n",
    "\n",
    "**Note:** This step is always applied to the original source files."
   ]
  },
  {
   "cell_type": "code",
   "execution_count": 3,
   "metadata": {},
   "outputs": [
    {
     "data": {
      "application/vnd.jupyter.widget-view+json": {
       "model_id": "bfb811d61690472a8c3b885f7e6971b5",
       "version_major": 2,
       "version_minor": 0
      },
      "text/plain": [
       "VBox(children=(HTML(value=''), IntProgress(value=0, max=5)))"
      ]
     },
     "metadata": {},
     "output_type": "display_data"
    },
    {
     "name": "stdout",
     "output_type": "stream",
     "text": [
      "elapsed: 208.30879664421082 sec\n"
     ]
    }
   ],
   "source": [
    "start = time.time()\n",
    "for d in log_progress(dirs, name=\"Directories\"):\n",
    "    orig_dir = os.path.join(SOURCE, d)\n",
    "    dest_dir = os.path.join(DEST, d)\n",
    "    if not os.path.exists(dest_dir):\n",
    "        os.makedirs(dest_dir)\n",
    "    # retag.JUP_replaceEntitiesXMLDir(orig_dir, dest_dir, ['persName'])\n",
    "    retag.JUP_replaceEntitiesXMLDir(orig_dir, dest_dir)\n",
    "print(\"elapsed: %s sec\" % (time.time() - start))"
   ]
  },
  {
   "cell_type": "code",
   "execution_count": null,
   "metadata": {},
   "outputs": [],
   "source": []
  }
 ],
 "metadata": {
  "kernelspec": {
   "display_name": "Python 3",
   "language": "python",
   "name": "python3"
  },
  "language_info": {
   "codemirror_mode": {
    "name": "ipython",
    "version": 3
   },
   "file_extension": ".py",
   "mimetype": "text/x-python",
   "name": "python",
   "nbconvert_exporter": "python",
   "pygments_lexer": "ipython3",
   "version": "3.6.8"
  }
 },
 "nbformat": 4,
 "nbformat_minor": 4
}
