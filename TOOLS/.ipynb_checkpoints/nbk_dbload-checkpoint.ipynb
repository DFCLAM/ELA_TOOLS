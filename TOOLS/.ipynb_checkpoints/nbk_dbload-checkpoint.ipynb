{
 "cells": [
  {
   "cell_type": "markdown",
   "metadata": {},
   "source": [
    "# Geographic Names DB Loader\n",
    "\n",
    "Use online text dumps from [Pleiades](https://pleiades.stoa.org/places/) and [GeoNames](https://www.geonames.org/) to feed the local geographic names database. This step is needed in order to prepare the database used by *tools_ela.py* for geographic coordinates retrieval: georeferentiation data will not be provided by *tools_ela.py* if the database is not found or prepared.\n",
    "\n",
    "Files retrieved from the above source, namely *pleiades-places.csv* for Pleiades and *allCountries.txt* for GeoNames, are expected to be placed in the `SOURCE/external` directory."
   ]
  },
  {
   "cell_type": "code",
   "execution_count": 1,
   "metadata": {},
   "outputs": [],
   "source": [
    "import os\n",
    "import dbload\n",
    "\n",
    "FILE_PLEIADES = os.path.join(dbload.DATA_DIR, \"pleiades-places.csv\")\n",
    "FILE_GEONAMES = os.path.join(dbload.DATA_DIR, \"allCountries.txt\")"
   ]
  },
  {
   "cell_type": "markdown",
   "metadata": {},
   "source": [
    "**Note:** Since the database load operations are time consuming, a simple progress bar is shown during the process."
   ]
  },
  {
   "cell_type": "code",
   "execution_count": 2,
   "metadata": {},
   "outputs": [
    {
     "name": "stdout",
     "output_type": "stream",
     "text": [
      "reading file: './SOURCE/external/pleiades-places.csv' (36864 entries)\n"
     ]
    },
    {
     "data": {
      "application/vnd.jupyter.widget-view+json": {
       "model_id": "c104b082eaa5490a863659b5f0ca16f9",
       "version_major": 2,
       "version_minor": 0
      },
      "text/plain": [
       "VBox(children=(HTML(value=''), IntProgress(value=0, max=36864)))"
      ]
     },
     "metadata": {},
     "output_type": "display_data"
    },
    {
     "name": "stdout",
     "output_type": "stream",
     "text": [
      "\n",
      "Done in 7.617441177368164 sec.\n"
     ]
    }
   ],
   "source": [
    "dbload.JUP_loadPleiades(FILE_PLEIADES)"
   ]
  },
  {
   "cell_type": "code",
   "execution_count": 3,
   "metadata": {},
   "outputs": [
    {
     "name": "stdout",
     "output_type": "stream",
     "text": [
      "reading file: './SOURCE/external/allCountries.txt' (11979635 lines)\n"
     ]
    },
    {
     "data": {
      "application/vnd.jupyter.widget-view+json": {
       "model_id": "518ee36505d44e54a94448af0559c8a9",
       "version_major": 2,
       "version_minor": 0
      },
      "text/plain": [
       "VBox(children=(HTML(value=''), IntProgress(value=0, max=11979635)))"
      ]
     },
     "metadata": {},
     "output_type": "display_data"
    },
    {
     "name": "stdout",
     "output_type": "stream",
     "text": [
      "\n",
      "Done in 460.13578486442566 sec.\n"
     ]
    }
   ],
   "source": [
    "dbload.JUP_loadGeonames(FILE_GEONAMES)"
   ]
  },
  {
   "cell_type": "code",
   "execution_count": null,
   "metadata": {},
   "outputs": [],
   "source": []
  }
 ],
 "metadata": {
  "kernelspec": {
   "display_name": "Python 3",
   "language": "python",
   "name": "python3"
  },
  "language_info": {
   "codemirror_mode": {
    "name": "ipython",
    "version": 3
   },
   "file_extension": ".py",
   "mimetype": "text/x-python",
   "name": "python",
   "nbconvert_exporter": "python",
   "pygments_lexer": "ipython3",
   "version": "3.6.8"
  }
 },
 "nbformat": 4,
 "nbformat_minor": 4
}
