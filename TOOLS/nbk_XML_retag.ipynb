{
 "cells": [
  {
   "cell_type": "markdown",
   "metadata": {},
   "source": [
    "# RETAG: Part ONE\n",
    "\n",
    "Replace and normalize `geogName` and `persName` tags in files by using lists (machine-produced and human-reviewed); all known names and their variants are replaced by normalized tags.\n",
    "\n",
    "**Note:** This notebook performs the *FIRST PASS: create list of names and variants*."
   ]
  },
  {
   "cell_type": "code",
   "execution_count": 1,
   "metadata": {},
   "outputs": [],
   "source": [
    "import os\n",
    "import time\n",
    "import retag\n",
    "\n",
    "from jnbkutility import log_progress\n",
    "\n",
    "SOURCE = os.path.join(\"SOURCE\", \"ela_corpus\")\n",
    "DEST = os.path.join(\"RESULT\", \"retag\", \"intermediate\")\n",
    "RT_DATA = os.path.join(\"RESULT\", \"retag\", \"retag_output.csv\")\n",
    "\n",
    "# this is fixed and should not be changed\n",
    "RT_PERSISTDATA = \"retag.data\"\n",
    "if os.path.exists(RT_PERSISTDATA):\n",
    "    retag.JUP_loadData()\n",
    "\n",
    "# SOURCE is expected to contain directories, and every subdirectory \n",
    "# in SOURCE is taken into account in order to recreate the structure\n",
    "dirs = []\n",
    "with os.scandir(SOURCE) as o:\n",
    "    for d in o:\n",
    "        if d.is_dir():\n",
    "            dirs.append(d.name)"
   ]
  },
  {
   "cell_type": "markdown",
   "metadata": {},
   "source": [
    "The following steps are only performed when:\n",
    "\n",
    "1. a *CSV* file is needed in order to be examined and corrected, so that the second step (in the *nbk_XML_retag2pass* notebook) can be performed,\n",
    "2. a persistence database (in internal, non-human-readable format) is needed, for corpora of considerable dimensions.\n",
    "\n",
    "For a sufficiently small corpus only the first action is needed. Uncomment the desired action and run the cell accordingly."
   ]
  },
  {
   "cell_type": "code",
   "execution_count": 2,
   "metadata": {},
   "outputs": [],
   "source": [
    "retag.JUP_writeCSV(RT_DATA)\n",
    "# retag.JUP_dumpData()"
   ]
  },
  {
   "cell_type": "markdown",
   "metadata": {},
   "source": [
    "## First Preliminary Correction: Add Entities when Untagged\n",
    "\n",
    "This step represents an intermediate step to help the reviewer by adding recognized entities to partially tagged texts: entities are only added where the corresponding elements are not found or incorrectly/incompletely tagged.\n",
    "\n",
    "**Note:** This step may be optional, when the primary goal is to produce the `RT_DATA` file."
   ]
  },
  {
   "cell_type": "code",
   "execution_count": 3,
   "metadata": {},
   "outputs": [
    {
     "data": {
      "application/vnd.jupyter.widget-view+json": {
       "model_id": "18ca9e47fa594a33be568857439225e2",
       "version_major": 2,
       "version_minor": 0
      },
      "text/plain": [
       "VBox(children=(HTML(value=''), IntProgress(value=0, max=5)))"
      ]
     },
     "metadata": {},
     "output_type": "display_data"
    },
    {
     "name": "stdout",
     "output_type": "stream",
     "text": [
      "elapsed: 56.162230014801025 sec\n"
     ]
    }
   ],
   "source": [
    "start = time.time()\n",
    "for d in log_progress(dirs, name=\"Directories\"):\n",
    "    orig_dir = os.path.join(SOURCE, d)\n",
    "    dest_dir = os.path.join(DEST, d)\n",
    "    if not os.path.exists(dest_dir):\n",
    "        os.makedirs(dest_dir)\n",
    "    retag.JUP_addEntitiesXMLDir(orig_dir, dest_dir)\n",
    "print(\"elapsed: %s sec\" % (time.time() - start))"
   ]
  },
  {
   "cell_type": "code",
   "execution_count": null,
   "metadata": {},
   "outputs": [],
   "source": []
  }
 ],
 "metadata": {
  "kernelspec": {
   "display_name": "Python 3",
   "language": "python",
   "name": "python3"
  },
  "language_info": {
   "codemirror_mode": {
    "name": "ipython",
    "version": 3
   },
   "file_extension": ".py",
   "mimetype": "text/x-python",
   "name": "python",
   "nbconvert_exporter": "python",
   "pygments_lexer": "ipython3",
   "version": "3.7.3"
  }
 },
 "nbformat": 4,
 "nbformat_minor": 4
}
